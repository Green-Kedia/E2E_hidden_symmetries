{
 "cells": [
  {
   "cell_type": "markdown",
   "id": "ce6954cd",
   "metadata": {
    "execution": {
     "iopub.execute_input": "2025-03-07T11:15:35.401986Z",
     "iopub.status.busy": "2025-03-07T11:15:35.401575Z",
     "iopub.status.idle": "2025-03-07T11:15:35.405906Z",
     "shell.execute_reply": "2025-03-07T11:15:35.404841Z",
     "shell.execute_reply.started": "2025-03-07T11:15:35.401952Z"
    },
    "papermill": {
     "duration": 0.003876,
     "end_time": "2025-04-01T06:57:58.692772",
     "exception": false,
     "start_time": "2025-04-01T06:57:58.688896",
     "status": "completed"
    },
    "tags": []
   },
   "source": [
    "# Discovery of hidden symmetries and conservation laws"
   ]
  },
  {
   "cell_type": "markdown",
   "id": "9b2589d5",
   "metadata": {
    "papermill": {
     "duration": 0.003022,
     "end_time": "2025-04-01T06:57:58.699447",
     "exception": false,
     "start_time": "2025-04-01T06:57:58.696425",
     "status": "completed"
    },
    "tags": []
   },
   "source": [
    "## Task 1"
   ]
  },
  {
   "cell_type": "markdown",
   "id": "c75666b1",
   "metadata": {
    "papermill": {
     "duration": 0.002915,
     "end_time": "2025-04-01T06:57:58.705614",
     "exception": false,
     "start_time": "2025-04-01T06:57:58.702699",
     "status": "completed"
    },
    "tags": []
   },
   "source": [
    "### Dataset Preparation:"
   ]
  },
  {
   "cell_type": "code",
   "execution_count": 1,
   "id": "36c42c84",
   "metadata": {
    "_cell_guid": "b1076dfc-b9ad-4769-8c92-a6c4dae69d19",
    "_uuid": "8f2839f25d086af736a60e9eeb907d3b93b6e0e5",
    "execution": {
     "iopub.execute_input": "2025-04-01T06:57:58.713491Z",
     "iopub.status.busy": "2025-04-01T06:57:58.713154Z",
     "iopub.status.idle": "2025-04-01T06:57:59.724932Z",
     "shell.execute_reply": "2025-04-01T06:57:59.723708Z"
    },
    "papermill": {
     "duration": 1.01824,
     "end_time": "2025-04-01T06:57:59.727058",
     "exception": false,
     "start_time": "2025-04-01T06:57:58.708818",
     "status": "completed"
    },
    "tags": []
   },
   "outputs": [],
   "source": [
    "# This Python 3 environment comes with many helpful analytics libraries installed\n",
    "# It is defined by the kaggle/python Docker image: https://github.com/kaggle/docker-python\n",
    "# For example, here's several helpful packages to load\n",
    "\n",
    "import numpy as np # linear algebra\n",
    "import pandas as pd # data processing, CSV file I/O (e.g. pd.read_csv)\n",
    "\n",
    "# Input data files are available in the read-only \"../input/\" directory\n",
    "# For example, running this (by clicking run or pressing Shift+Enter) will list all files under the input directory\n",
    "\n",
    "import os\n",
    "for dirname, _, filenames in os.walk('/kaggle/input'):\n",
    "    for filename in filenames:\n",
    "        print(os.path.join(dirname, filename))\n",
    "\n",
    "# You can write up to 20GB to the current directory (/kaggle/working/) that gets preserved as output when you create a version using \"Save & Run All\" \n",
    "# You can also write temporary files to /kaggle/temp/, but they won't be saved outside of the current session"
   ]
  },
  {
   "cell_type": "code",
   "execution_count": 2,
   "id": "af0c4c50",
   "metadata": {
    "execution": {
     "iopub.execute_input": "2025-04-01T06:57:59.735378Z",
     "iopub.status.busy": "2025-04-01T06:57:59.734863Z",
     "iopub.status.idle": "2025-04-01T06:58:15.754380Z",
     "shell.execute_reply": "2025-04-01T06:58:15.753171Z"
    },
    "papermill": {
     "duration": 16.025294,
     "end_time": "2025-04-01T06:58:15.755940",
     "exception": false,
     "start_time": "2025-04-01T06:57:59.730646",
     "status": "completed"
    },
    "tags": []
   },
   "outputs": [
    {
     "name": "stdout",
     "output_type": "stream",
     "text": [
      "Downloading http://yann.lecun.com/exdb/mnist/train-images-idx3-ubyte.gz\n",
      "Failed to download (trying next):\n",
      "HTTP Error 404: Not Found\n",
      "\n",
      "Downloading https://ossci-datasets.s3.amazonaws.com/mnist/train-images-idx3-ubyte.gz\n",
      "Downloading https://ossci-datasets.s3.amazonaws.com/mnist/train-images-idx3-ubyte.gz to ./data/MNIST/raw/train-images-idx3-ubyte.gz\n"
     ]
    },
    {
     "name": "stderr",
     "output_type": "stream",
     "text": [
      "100%|██████████| 9.91M/9.91M [00:00<00:00, 12.8MB/s]\n"
     ]
    },
    {
     "name": "stdout",
     "output_type": "stream",
     "text": [
      "Extracting ./data/MNIST/raw/train-images-idx3-ubyte.gz to ./data/MNIST/raw\n",
      "\n",
      "Downloading http://yann.lecun.com/exdb/mnist/train-labels-idx1-ubyte.gz\n",
      "Failed to download (trying next):\n",
      "HTTP Error 404: Not Found\n",
      "\n",
      "Downloading https://ossci-datasets.s3.amazonaws.com/mnist/train-labels-idx1-ubyte.gz\n",
      "Downloading https://ossci-datasets.s3.amazonaws.com/mnist/train-labels-idx1-ubyte.gz to ./data/MNIST/raw/train-labels-idx1-ubyte.gz\n"
     ]
    },
    {
     "name": "stderr",
     "output_type": "stream",
     "text": [
      "100%|██████████| 28.9k/28.9k [00:00<00:00, 340kB/s]\n"
     ]
    },
    {
     "name": "stdout",
     "output_type": "stream",
     "text": [
      "Extracting ./data/MNIST/raw/train-labels-idx1-ubyte.gz to ./data/MNIST/raw\n",
      "\n",
      "Downloading http://yann.lecun.com/exdb/mnist/t10k-images-idx3-ubyte.gz\n",
      "Failed to download (trying next):\n",
      "HTTP Error 404: Not Found\n",
      "\n",
      "Downloading https://ossci-datasets.s3.amazonaws.com/mnist/t10k-images-idx3-ubyte.gz\n",
      "Downloading https://ossci-datasets.s3.amazonaws.com/mnist/t10k-images-idx3-ubyte.gz to ./data/MNIST/raw/t10k-images-idx3-ubyte.gz\n"
     ]
    },
    {
     "name": "stderr",
     "output_type": "stream",
     "text": [
      "100%|██████████| 1.65M/1.65M [00:00<00:00, 3.19MB/s]\n"
     ]
    },
    {
     "name": "stdout",
     "output_type": "stream",
     "text": [
      "Extracting ./data/MNIST/raw/t10k-images-idx3-ubyte.gz to ./data/MNIST/raw\n",
      "\n",
      "Downloading http://yann.lecun.com/exdb/mnist/t10k-labels-idx1-ubyte.gz\n",
      "Failed to download (trying next):\n",
      "HTTP Error 404: Not Found\n",
      "\n",
      "Downloading https://ossci-datasets.s3.amazonaws.com/mnist/t10k-labels-idx1-ubyte.gz\n",
      "Downloading https://ossci-datasets.s3.amazonaws.com/mnist/t10k-labels-idx1-ubyte.gz to ./data/MNIST/raw/t10k-labels-idx1-ubyte.gz\n"
     ]
    },
    {
     "name": "stderr",
     "output_type": "stream",
     "text": [
      "100%|██████████| 4.54k/4.54k [00:00<00:00, 4.34MB/s]"
     ]
    },
    {
     "name": "stdout",
     "output_type": "stream",
     "text": [
      "Extracting ./data/MNIST/raw/t10k-labels-idx1-ubyte.gz to ./data/MNIST/raw\n",
      "\n"
     ]
    },
    {
     "name": "stderr",
     "output_type": "stream",
     "text": [
      "\n"
     ]
    }
   ],
   "source": [
    "import torch\n",
    "import torchvision.transforms as transforms\n",
    "from torchvision.datasets import MNIST\n",
    "from torch.utils.data import DataLoader, Subset\n",
    "import numpy as np\n",
    "from PIL import Image\n",
    "import os\n",
    "\n",
    "# Define rotation angles\n",
    "ROTATION_ANGLES = [30 * i for i in range(1, 12)]  # [30, 60, ..., 330]\n",
    "\n",
    "# Directory to save rotated dataset\n",
    "SAVE_DIR = \"rotated_mnist\"\n",
    "os.makedirs(SAVE_DIR, exist_ok=True)\n",
    "\n",
    "# Load MNIST dataset\n",
    "transform = transforms.Compose([\n",
    "    transforms.ToTensor(),  # Convert image to tensor\n",
    "])\n",
    "\n",
    "dataset = MNIST(root=\"./data\", train=True, download=True, transform=transform)"
   ]
  },
  {
   "cell_type": "code",
   "execution_count": 3,
   "id": "d8ffcb17",
   "metadata": {
    "execution": {
     "iopub.execute_input": "2025-04-01T06:58:15.768064Z",
     "iopub.status.busy": "2025-04-01T06:58:15.767557Z",
     "iopub.status.idle": "2025-04-01T06:58:15.772138Z",
     "shell.execute_reply": "2025-04-01T06:58:15.771066Z"
    },
    "papermill": {
     "duration": 0.012396,
     "end_time": "2025-04-01T06:58:15.773854",
     "exception": false,
     "start_time": "2025-04-01T06:58:15.761458",
     "status": "completed"
    },
    "tags": []
   },
   "outputs": [],
   "source": [
    "import matplotlib.pyplot as plt"
   ]
  },
  {
   "cell_type": "code",
   "execution_count": 4,
   "id": "143d9220",
   "metadata": {
    "execution": {
     "iopub.execute_input": "2025-04-01T06:58:15.785529Z",
     "iopub.status.busy": "2025-04-01T06:58:15.785178Z",
     "iopub.status.idle": "2025-04-01T06:58:16.116706Z",
     "shell.execute_reply": "2025-04-01T06:58:16.115643Z"
    },
    "papermill": {
     "duration": 0.339384,
     "end_time": "2025-04-01T06:58:16.118506",
     "exception": false,
     "start_time": "2025-04-01T06:58:15.779122",
     "status": "completed"
    },
    "tags": []
   },
   "outputs": [
    {
     "data": {
      "text/plain": [
       "<matplotlib.image.AxesImage at 0x7dc719f19630>"
      ]
     },
     "execution_count": 4,
     "metadata": {},
     "output_type": "execute_result"
    },
    {
     "data": {
      "image/png": "[encoded data removed]",
      "text/plain": [
       "<Figure size 640x480 with 1 Axes>"
      ]
     },
     "metadata": {},
     "output_type": "display_data"
    }
   ],
   "source": [
    "image_pil = transforms.ToPILImage()(dataset[0][0])\n",
    "rotated_image = image_pil.rotate(60)\n",
    "rotated_image_tensor = transforms.ToTensor()(rotated_image)\n",
    "plt.imshow((rotated_image_tensor).squeeze())"
   ]
  },
  {
   "cell_type": "code",
   "execution_count": 5,
   "id": "7eff202e",
   "metadata": {
    "execution": {
     "iopub.execute_input": "2025-04-01T06:58:16.131147Z",
     "iopub.status.busy": "2025-04-01T06:58:16.130747Z",
     "iopub.status.idle": "2025-04-01T06:58:16.326982Z",
     "shell.execute_reply": "2025-04-01T06:58:16.325792Z"
    },
    "papermill": {
     "duration": 0.205046,
     "end_time": "2025-04-01T06:58:16.329255",
     "exception": false,
     "start_time": "2025-04-01T06:58:16.124209",
     "status": "completed"
    },
    "tags": []
   },
   "outputs": [
    {
     "data": {
      "text/plain": [
       "<matplotlib.image.AxesImage at 0x7dc71a3f2200>"
      ]
     },
     "execution_count": 5,
     "metadata": {},
     "output_type": "execute_result"
    },
    {
     "data": {
      "image/png": "[encoded data removed]",
      "text/plain": [
       "<Figure size 640x480 with 1 Axes>"
      ]
     },
     "metadata": {},
     "output_type": "display_data"
    }
   ],
   "source": [
    "plt.imshow((dataset[0][0]).squeeze())"
   ]
  },
  {
   "cell_type": "code",
   "execution_count": 6,
   "id": "cfed2b2b",
   "metadata": {
    "execution": {
     "iopub.execute_input": "2025-04-01T06:58:16.344771Z",
     "iopub.status.busy": "2025-04-01T06:58:16.344356Z",
     "iopub.status.idle": "2025-04-01T06:58:16.350713Z",
     "shell.execute_reply": "2025-04-01T06:58:16.349292Z"
    },
    "papermill": {
     "duration": 0.016364,
     "end_time": "2025-04-01T06:58:16.352733",
     "exception": false,
     "start_time": "2025-04-01T06:58:16.336369",
     "status": "completed"
    },
    "tags": []
   },
   "outputs": [
    {
     "data": {
      "text/plain": [
       "60000"
      ]
     },
     "execution_count": 6,
     "metadata": {},
     "output_type": "execute_result"
    }
   ],
   "source": [
    "len(dataset)"
   ]
  },
  {
   "cell_type": "code",
   "execution_count": 7,
   "id": "34a11de0",
   "metadata": {
    "execution": {
     "iopub.execute_input": "2025-04-01T06:58:16.368221Z",
     "iopub.status.busy": "2025-04-01T06:58:16.367653Z",
     "iopub.status.idle": "2025-04-01T06:58:16.555461Z",
     "shell.execute_reply": "2025-04-01T06:58:16.554182Z"
    },
    "papermill": {
     "duration": 0.198242,
     "end_time": "2025-04-01T06:58:16.557518",
     "exception": false,
     "start_time": "2025-04-01T06:58:16.359276",
     "status": "completed"
    },
    "tags": []
   },
   "outputs": [],
   "source": [
    "from tqdm.auto import tqdm"
   ]
  },
  {
   "cell_type": "code",
   "execution_count": 8,
   "id": "667d6616",
   "metadata": {
    "execution": {
     "iopub.execute_input": "2025-04-01T06:58:16.572229Z",
     "iopub.status.busy": "2025-04-01T06:58:16.571810Z",
     "iopub.status.idle": "2025-04-01T07:00:08.547381Z",
     "shell.execute_reply": "2025-04-01T07:00:08.546003Z"
    },
    "papermill": {
     "duration": 111.985728,
     "end_time": "2025-04-01T07:00:08.549730",
     "exception": false,
     "start_time": "2025-04-01T06:58:16.564002",
     "status": "completed"
    },
    "tags": []
   },
   "outputs": [
    {
     "data": {
      "application/vnd.jupyter.widget-view+json": {
       "model_id": "20e885effc0448a190056c670cb8a719",
       "version_major": 2,
       "version_minor": 0
      },
      "text/plain": [
       "  0%|          | 0/60000 [00:00<?, ?it/s]"
      ]
     },
     "metadata": {},
     "output_type": "display_data"
    }
   ],
   "source": [
    "import h5py\n",
    "import numpy as np\n",
    "from tqdm.auto import tqdm\n",
    "from torchvision import transforms\n",
    "from torch.utils.data import Subset\n",
    "\n",
    "# Define rotation angles\n",
    "ROTATION_ANGLES = list(range(0, 360, 30))  # 0, 30, 60, ..., 330\n",
    "\n",
    "# Create a dictionary to store rotated images for each digit (0-9)\n",
    "digit_data = {digit: [] for digit in range(10)}\n",
    "\n",
    "# Define the HDF5 file\n",
    "with h5py.File(\"rotated_digits.hdf5\", \"w\") as hdf5_file:\n",
    "    for idx, (image, label) in tqdm(enumerate(dataset), total=len(dataset)):\n",
    "        image_pil = transforms.ToPILImage()(image)  # Convert tensor to PIL image\n",
    "        rotated_images = [transforms.ToTensor()(image_pil.rotate(angle)).numpy() for angle in ROTATION_ANGLES]\n",
    "        \n",
    "        digit_data[label].append(np.stack(rotated_images, axis=0))  # Shape: [12, C, H, W]\n",
    "\n",
    "    # Save each digit dataset\n",
    "    for digit, images in digit_data.items():\n",
    "        if images:\n",
    "            hdf5_file.create_dataset(f\"digit_{digit}\", data=np.array(images, dtype=np.float32))"
   ]
  },
  {
   "cell_type": "code",
   "execution_count": 9,
   "id": "befbb187",
   "metadata": {
    "execution": {
     "iopub.execute_input": "2025-04-01T07:00:08.566200Z",
     "iopub.status.busy": "2025-04-01T07:00:08.565558Z",
     "iopub.status.idle": "2025-04-01T07:00:08.588645Z",
     "shell.execute_reply": "2025-04-01T07:00:08.586939Z"
    },
    "papermill": {
     "duration": 0.033327,
     "end_time": "2025-04-01T07:00:08.590860",
     "exception": false,
     "start_time": "2025-04-01T07:00:08.557533",
     "status": "completed"
    },
    "tags": []
   },
   "outputs": [
    {
     "name": "stdout",
     "output_type": "stream",
     "text": [
      "Cleanup complete. Only rotated_digits.hdf5 remains.\n"
     ]
    }
   ],
   "source": [
    "import os\n",
    "import shutil\n",
    "\n",
    "# Define the output directory\n",
    "output_dir = \"/kaggle/working\"\n",
    "\n",
    "# List all files in the directory\n",
    "for filename in os.listdir(output_dir):\n",
    "    if filename != \"rotated_digits.hdf5\":  # Keep only the HDF5 file\n",
    "        file_path = os.path.join(output_dir, filename)\n",
    "        if os.path.isfile(file_path):\n",
    "            os.remove(file_path)  # Remove files\n",
    "        elif os.path.isdir(file_path):\n",
    "            shutil.rmtree(file_path)  # Remove directories\n",
    "\n",
    "print(\"Cleanup complete. Only rotated_digits.hdf5 remains.\")"
   ]
  },
  {
   "cell_type": "code",
   "execution_count": null,
   "id": "b016c4a7",
   "metadata": {
    "papermill": {
     "duration": 0.007238,
     "end_time": "2025-04-01T07:00:08.605046",
     "exception": false,
     "start_time": "2025-04-01T07:00:08.597808",
     "status": "completed"
    },
    "tags": []
   },
   "outputs": [],
   "source": []
  }
 ],
 "metadata": {
  "kaggle": {
   "accelerator": "none",
   "dataSources": [],
   "dockerImageVersionId": 30918,
   "isGpuEnabled": false,
   "isInternetEnabled": true,
   "language": "python",
   "sourceType": "notebook"
  },
  "kernelspec": {
   "display_name": "Python 3",
   "language": "python",
   "name": "python3"
  },
  "language_info": {
   "codemirror_mode": {
    "name": "ipython",
    "version": 3
   },
   "file_extension": ".py",
   "mimetype": "text/x-python",
   "name": "python",
   "nbconvert_exporter": "python",
   "pygments_lexer": "ipython3",
   "version": "3.10.12"
  },
  "papermill": {
   "default_parameters": {},
   "duration": 135.716557,
   "end_time": "2025-04-01T07:00:11.400680",
   "environment_variables": {},
   "exception": null,
   "input_path": "__notebook__.ipynb",
   "output_path": "__notebook__.ipynb",
   "parameters": {},
   "start_time": "2025-04-01T06:57:55.684123",
   "version": "2.6.0"
  },
  "widgets": {
   "application/vnd.jupyter.widget-state+json": {
    "state": {
     "20e885effc0448a190056c670cb8a719": {
      "model_module": "@jupyter-widgets/controls",
      "model_module_version": "2.0.0",
      "model_name": "HBoxModel",
      "state": {
       "_dom_classes": [],
       "_model_module": "@jupyter-widgets/controls",
       "_model_module_version": "2.0.0",
       "_model_name": "HBoxModel",
       "_view_count": null,
       "_view_module": "@jupyter-widgets/controls",
       "_view_module_version": "2.0.0",
       "_view_name": "HBoxView",
       "box_style": "",
       "children": [
        "IPY_MODEL_ca2aa2e34d2c47bb9e2c71ac6c2cde38",
        "IPY_MODEL_307bce1005cc4830b96fade66dc7a9e0",
        "IPY_MODEL_7cf8c7929c3540698bea4d68ea0ce887"
       ],
       "layout": "IPY_MODEL_e0ab3ae1d92847a2b0bbf7141cd8964d",
       "tabbable": null,
       "tooltip": null
      }
     },
     "307bce1005cc4830b96fade66dc7a9e0": {
      "model_module": "@jupyter-widgets/controls",
      "model_module_version": "2.0.0",
      "model_name": "FloatProgressModel",
      "state": {
       "_dom_classes": [],
       "_model_module": "@jupyter-widgets/controls",
       "_model_module_version": "2.0.0",
       "_model_name": "FloatProgressModel",
       "_view_count": null,
       "_view_module": "@jupyter-widgets/controls",
       "_view_module_version": "2.0.0",
       "_view_name": "ProgressView",
       "bar_style": "success",
       "description": "",
       "description_allow_html": false,
       "layout": "IPY_MODEL_ec39da5094b644fbb7cc5f46c16242b1",
       "max": 60000.0,
       "min": 0.0,
       "orientation": "horizontal",
       "style": "IPY_MODEL_482a7ab0888043de83960985b56ff9e2",
       "tabbable": null,
       "tooltip": null,
       "value": 60000.0
      }
     },
     "482a7ab0888043de83960985b56ff9e2": {
      "model_module": "@jupyter-widgets/controls",
      "model_module_version": "2.0.0",
      "model_name": "ProgressStyleModel",
      "state": {
       "_model_module": "@jupyter-widgets/controls",
       "_model_module_version": "2.0.0",
       "_model_name": "ProgressStyleModel",
       "_view_count": null,
       "_view_module": "@jupyter-widgets/base",
       "_view_module_version": "2.0.0",
       "_view_name": "StyleView",
       "bar_color": null,
       "description_width": ""
      }
     },
     "7cf8c7929c3540698bea4d68ea0ce887": {
      "model_module": "@jupyter-widgets/controls",
      "model_module_version": "2.0.0",
      "model_name": "HTMLModel",
      "state": {
       "_dom_classes": [],
       "_model_module": "@jupyter-widgets/controls",
       "_model_module_version": "2.0.0",
       "_model_name": "HTMLModel",
       "_view_count": null,
       "_view_module": "@jupyter-widgets/controls",
       "_view_module_version": "2.0.0",
       "_view_name": "HTMLView",
       "description": "",
       "description_allow_html": false,
       "layout": "IPY_MODEL_b3f1ad3133654c609f1a7d44be2b851b",
       "placeholder": "​",
       "style": "IPY_MODEL_f90ff48168ae450a820e59f8a31da932",
       "tabbable": null,
       "tooltip": null,
       "value": " 60000/60000 [01:48&lt;00:00, 489.58it/s]"
      }
     },
     "b3f1ad3133654c609f1a7d44be2b851b": {
      "model_module": "@jupyter-widgets/base",
      "model_module_version": "2.0.0",
      "model_name": "LayoutModel",
      "state": {
       "_model_module": "@jupyter-widgets/base",
       "_model_module_version": "2.0.0",
       "_model_name": "LayoutModel",
       "_view_count": null,
       "_view_module": "@jupyter-widgets/base",
       "_view_module_version": "2.0.0",
       "_view_name": "LayoutView",
       "align_content": null,
       "align_items": null,
       "align_self": null,
       "border_bottom": null,
       "border_left": null,
       "border_right": null,
       "border_top": null,
       "bottom": null,
       "display": null,
       "flex": null,
       "flex_flow": null,
       "grid_area": null,
       "grid_auto_columns": null,
       "grid_auto_flow": null,
       "grid_auto_rows": null,
       "grid_column": null,
       "grid_gap": null,
       "grid_row": null,
       "grid_template_areas": null,
       "grid_template_columns": null,
       "grid_template_rows": null,
       "height": null,
       "justify_content": null,
       "justify_items": null,
       "left": null,
       "margin": null,
       "max_height": null,
       "max_width": null,
       "min_height": null,
       "min_width": null,
       "object_fit": null,
       "object_position": null,
       "order": null,
       "overflow": null,
       "padding": null,
       "right": null,
       "top": null,
       "visibility": null,
       "width": null
      }
     },
     "ca2aa2e34d2c47bb9e2c71ac6c2cde38": {
      "model_module": "@jupyter-widgets/controls",
      "model_module_version": "2.0.0",
      "model_name": "HTMLModel",
      "state": {
       "_dom_classes": [],
       "_model_module": "@jupyter-widgets/controls",
       "_model_module_version": "2.0.0",
       "_model_name": "HTMLModel",
       "_view_count": null,
       "_view_module": "@jupyter-widgets/controls",
       "_view_module_version": "2.0.0",
       "_view_name": "HTMLView",
       "description": "",
       "description_allow_html": false,
       "layout": "IPY_MODEL_d4220e807e4c4cc99ef562f67908cdc9",
       "placeholder": "​",
       "style": "IPY_MODEL_d22c659bb0aa48cdb7110fc1b660d216",
       "tabbable": null,
       "tooltip": null,
       "value": "100%"
      }
     },
     "d22c659bb0aa48cdb7110fc1b660d216": {
      "model_module": "@jupyter-widgets/controls",
      "model_module_version": "2.0.0",
      "model_name": "HTMLStyleModel",
      "state": {
       "_model_module": "@jupyter-widgets/controls",
       "_model_module_version": "2.0.0",
       "_model_name": "HTMLStyleModel",
       "_view_count": null,
       "_view_module": "@jupyter-widgets/base",
       "_view_module_version": "2.0.0",
       "_view_name": "StyleView",
       "background": null,
       "description_width": "",
       "font_size": null,
       "text_color": null
      }
     },
     "d4220e807e4c4cc99ef562f67908cdc9": {
      "model_module": "@jupyter-widgets/base",
      "model_module_version": "2.0.0",
      "model_name": "LayoutModel",
      "state": {
       "_model_module": "@jupyter-widgets/base",
       "_model_module_version": "2.0.0",
       "_model_name": "LayoutModel",
       "_view_count": null,
       "_view_module": "@jupyter-widgets/base",
       "_view_module_version": "2.0.0",
       "_view_name": "LayoutView",
       "align_content": null,
       "align_items": null,
       "align_self": null,
       "border_bottom": null,
       "border_left": null,
       "border_right": null,
       "border_top": null,
       "bottom": null,
       "display": null,
       "flex": null,
       "flex_flow": null,
       "grid_area": null,
       "grid_auto_columns": null,
       "grid_auto_flow": null,
       "grid_auto_rows": null,
       "grid_column": null,
       "grid_gap": null,
       "grid_row": null,
       "grid_template_areas": null,
       "grid_template_columns": null,
       "grid_template_rows": null,
       "height": null,
       "justify_content": null,
       "justify_items": null,
       "left": null,
       "margin": null,
       "max_height": null,
       "max_width": null,
       "min_height": null,
       "min_width": null,
       "object_fit": null,
       "object_position": null,
       "order": null,
       "overflow": null,
       "padding": null,
       "right": null,
       "top": null,
       "visibility": null,
       "width": null
      }
     },
     "e0ab3ae1d92847a2b0bbf7141cd8964d": {
      "model_module": "@jupyter-widgets/base",
      "model_module_version": "2.0.0",
      "model_name": "LayoutModel",
      "state": {
       "_model_module": "@jupyter-widgets/base",
       "_model_module_version": "2.0.0",
       "_model_name": "LayoutModel",
       "_view_count": null,
       "_view_module": "@jupyter-widgets/base",
       "_view_module_version": "2.0.0",
       "_view_name": "LayoutView",
       "align_content": null,
       "align_items": null,
       "align_self": null,
       "border_bottom": null,
       "border_left": null,
       "border_right": null,
       "border_top": null,
       "bottom": null,
       "display": null,
       "flex": null,
       "flex_flow": null,
       "grid_area": null,
       "grid_auto_columns": null,
       "grid_auto_flow": null,
       "grid_auto_rows": null,
       "grid_column": null,
       "grid_gap": null,
       "grid_row": null,
       "grid_template_areas": null,
       "grid_template_columns": null,
       "grid_template_rows": null,
       "height": null,
       "justify_content": null,
       "justify_items": null,
       "left": null,
       "margin": null,
       "max_height": null,
       "max_width": null,
       "min_height": null,
       "min_width": null,
       "object_fit": null,
       "object_position": null,
       "order": null,
       "overflow": null,
       "padding": null,
       "right": null,
       "top": null,
       "visibility": null,
       "width": null
      }
     },
     "ec39da5094b644fbb7cc5f46c16242b1": {
      "model_module": "@jupyter-widgets/base",
      "model_module_version": "2.0.0",
      "model_name": "LayoutModel",
      "state": {
       "_model_module": "@jupyter-widgets/base",
       "_model_module_version": "2.0.0",
       "_model_name": "LayoutModel",
       "_view_count": null,
       "_view_module": "@jupyter-widgets/base",
       "_view_module_version": "2.0.0",
       "_view_name": "LayoutView",
       "align_content": null,
       "align_items": null,
       "align_self": null,
       "border_bottom": null,
       "border_left": null,
       "border_right": null,
       "border_top": null,
       "bottom": null,
       "display": null,
       "flex": null,
       "flex_flow": null,
       "grid_area": null,
       "grid_auto_columns": null,
       "grid_auto_flow": null,
       "grid_auto_rows": null,
       "grid_column": null,
       "grid_gap": null,
       "grid_row": null,
       "grid_template_areas": null,
       "grid_template_columns": null,
       "grid_template_rows": null,
       "height": null,
       "justify_content": null,
       "justify_items": null,
       "left": null,
       "margin": null,
       "max_height": null,
       "max_width": null,
       "min_height": null,
       "min_width": null,
       "object_fit": null,
       "object_position": null,
       "order": null,
       "overflow": null,
       "padding": null,
       "right": null,
       "top": null,
       "visibility": null,
       "width": null
      }
     },
     "f90ff48168ae450a820e59f8a31da932": {
      "model_module": "@jupyter-widgets/controls",
      "model_module_version": "2.0.0",
      "model_name": "HTMLStyleModel",
      "state": {
       "_model_module": "@jupyter-widgets/controls",
       "_model_module_version": "2.0.0",
       "_model_name": "HTMLStyleModel",
       "_view_count": null,
       "_view_module": "@jupyter-widgets/base",
       "_view_module_version": "2.0.0",
       "_view_name": "StyleView",
       "background": null,
       "description_width": "",
       "font_size": null,
       "text_color": null
      }
     }
    },
    "version_major": 2,
    "version_minor": 0
   }
  }
 },
 "nbformat": 4,
 "nbformat_minor": 5
}
